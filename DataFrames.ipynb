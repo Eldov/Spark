{
 "cells": [
  {
   "cell_type": "markdown",
   "metadata": {},
   "source": [
    "### Create a table:"
   ]
  },
  {
   "cell_type": "code",
   "execution_count": null,
   "metadata": {},
   "outputs": [],
   "source": [
    "%sql\n",
    "CREATE A TABLE IF NOT EXISTS table_name USING parquet OPTIONS (path \"/the/file/path/table_file.parquet\")"
   ]
  },
  {
   "cell_type": "code",
   "execution_count": null,
   "metadata": {},
   "outputs": [],
   "source": [
    "%python\n",
    "spark.sql(\"\"\"CREATE A TABLE IF NOT EXISTS table_name USING parquet OPTIONS (path \"{}\")\"\"\".format(table_name_path))"
   ]
  },
  {
   "cell_type": "markdown",
   "metadata": {},
   "source": [
    "### Create a widget:"
   ]
  },
  {
   "cell_type": "code",
   "execution_count": null,
   "metadata": {},
   "outputs": [],
   "source": [
    "CREATE WIDGET TEXT widget_name DEFAULT \"widget value\"\n",
    "\n",
    "getArgument(\"widget_name\") #Returns the widget\n",
    "\n",
    "REMOVE WIDGET widget_name # Eliminate the widget"
   ]
  },
  {
   "cell_type": "markdown",
   "metadata": {},
   "source": [
    "### SparkSession (Used to be Spark Context in older versions):"
   ]
  },
  {
   "cell_type": "markdown",
   "metadata": {},
   "source": [
    "![SparkSession Methods](pics/SparkSession%20Methods.PNG)"
   ]
  },
  {
   "cell_type": "markdown",
   "metadata": {},
   "source": [
    "### SQL vs DataFrame API:"
   ]
  },
  {
   "cell_type": "code",
   "execution_count": null,
   "metadata": {},
   "outputs": [],
   "source": [
    "%sql\n",
    "SELECT col_1, col_2\n",
    "FROM table_name\n",
    "WHERE col_2 < 20\n",
    "ORDER BY col_2"
   ]
  },
  {
   "cell_type": "code",
   "execution_count": null,
   "metadata": {},
   "outputs": [],
   "source": [
    "%python\n",
    "display(spark.table(\"table_name\")\n",
    "    .select(\"col_1\", \"col_2\")\n",
    "    .where(\"col_2 < 20\")\n",
    "    .orderBy(\"col_2\"))"
   ]
  },
  {
   "cell_type": "markdown",
   "metadata": {},
   "source": [
    "### Create a DataFrame:"
   ]
  },
  {
   "cell_type": "code",
   "execution_count": null,
   "metadata": {},
   "outputs": [],
   "source": [
    "tableDF = spark.table(\"table_name\")"
   ]
  },
  {
   "cell_type": "markdown",
   "metadata": {},
   "source": [
    "### SparkSession Methods:"
   ]
  },
  {
   "cell_type": "markdown",
   "metadata": {},
   "source": [
    "- **spark.sql()** -> creates a df from a query  \n",
    "- **spark.table()** -> creates a df from a table  \n",
    "- **spark.read()** -> reads data in into dfs  \n",
    "- **spark.range()** -> creates df with a col made of elements in a range  \n",
    "- **spark.createDataFrame()** -> creates a df from tuples  "
   ]
  },
  {
   "cell_type": "markdown",
   "metadata": {},
   "source": [
    "### DataFrame Action Methods:"
   ]
  },
  {
   "cell_type": "markdown",
   "metadata": {},
   "source": [
    "- **df.show()** -> display top n rows in table form  \n",
    "- **df.count()** -> returns number of rows in the df  \n",
    "- **df.describe()/summary()** -> computes basic statistics \n",
    "- **df.first()/head()** -> returns first row \n",
    "- **df.collect()** -> returns all the df rows in an array \n",
    "- **df.take()** -> returns first n rows in an array "
   ]
  },
  {
   "cell_type": "markdown",
   "metadata": {},
   "source": [
    "### Create a View:"
   ]
  },
  {
   "cell_type": "code",
   "execution_count": null,
   "metadata": {},
   "outputs": [],
   "source": [
    "df.createOrReplaceTempView(\"view_name\")"
   ]
  },
  {
   "cell_type": "markdown",
   "metadata": {},
   "source": [
    "### Data Sources:"
   ]
  },
  {
   "cell_type": "code",
   "execution_count": null,
   "metadata": {},
   "outputs": [],
   "source": [
    "READ -> spark.read.parquet(\"path/to/the.parquet\")  \n",
    "WRITE -> (df.write  \n",
    "                .option(\"compression\", \"snappy\")  \n",
    "                .mode(\"overwrite\")  \n",
    "                .parquet(outPath)  \n",
    "                )"
   ]
  }
 ],
 "metadata": {
  "kernelspec": {
   "display_name": "Python 3.10.11 64-bit (microsoft store)",
   "language": "python",
   "name": "python3"
  },
  "language_info": {
   "name": "python",
   "version": "3.10.11"
  },
  "orig_nbformat": 4,
  "vscode": {
   "interpreter": {
    "hash": "45328cea26b25948b97b0f37f1a12ccfd1fd6868ffd79945aa9cfb5de8c131d1"
   }
  }
 },
 "nbformat": 4,
 "nbformat_minor": 2
}
