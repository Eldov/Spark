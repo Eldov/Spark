{
 "cells": [
  {
   "cell_type": "markdown",
   "metadata": {},
   "source": [
    "### Create a table:"
   ]
  },
  {
   "cell_type": "code",
   "execution_count": null,
   "metadata": {},
   "outputs": [],
   "source": [
    "%sql\n",
    "CREATE A TABLE IF NOT EXISTS table_name USING parquet OPTIONS (path \"/the/file/path/table_file.parquet\")"
   ]
  },
  {
   "cell_type": "markdown",
   "metadata": {},
   "source": [
    "### Create a widget:"
   ]
  },
  {
   "cell_type": "code",
   "execution_count": null,
   "metadata": {},
   "outputs": [],
   "source": [
    "CREATE WIDGET TEXT widget_name DEFAULT \"widget value\"\n",
    "\n",
    "getArgument(\"widget_name\") #Returns the widget\n",
    "\n",
    "REMOVE WIDGET widget_name # Eliminate the widget"
   ]
  },
  {
   "cell_type": "markdown",
   "metadata": {},
   "source": [
    "### SparkSession (Used to be Spark Context in older versions):"
   ]
  },
  {
   "cell_type": "markdown",
   "metadata": {},
   "source": [
    "![SparkSession Methods](https://github.com/Eldov/Spark/blob/main/pics/SparkSession%20Methods.PNG)  \n",
    "\n",
    "![SparkSession Methods](pics/SparkSession%20Methods.PNG)  \n",
    "\n",
    "\n",
    "<img src=\"https://github.com/Eldov/Spark/blob/main/pics/SparkSession%20Methods.PNG\" />  \n",
    "  \n",
    "\n",
    "<img src=\"https://github.com/Eldov/Spark/blob/main/pics/SparkSession%20Methods.PNG\" width=\"800\" />\n"
   ]
  }
 ],
 "metadata": {
  "kernelspec": {
   "display_name": "Python 3.10.11 64-bit (microsoft store)",
   "language": "python",
   "name": "python3"
  },
  "language_info": {
   "name": "python",
   "version": "3.10.11"
  },
  "orig_nbformat": 4,
  "vscode": {
   "interpreter": {
    "hash": "45328cea26b25948b97b0f37f1a12ccfd1fd6868ffd79945aa9cfb5de8c131d1"
   }
  }
 },
 "nbformat": 4,
 "nbformat_minor": 2
}
